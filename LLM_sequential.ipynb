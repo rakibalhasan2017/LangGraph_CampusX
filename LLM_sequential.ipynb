{
 "cells": [
  {
   "cell_type": "code",
   "execution_count": 26,
   "id": "e1698ea8",
   "metadata": {},
   "outputs": [],
   "source": [
    "from langgraph.graph import StateGraph, START, END\n",
    "from typing import TypedDict\n",
    "from IPython.display import display\n",
    "from langchain.prompts import PromptTemplate\n",
    "from langchain_huggingface import HuggingFaceEndpoint, ChatHuggingFace\n"
   ]
  },
  {
   "cell_type": "code",
   "execution_count": 41,
   "id": "1904bc66",
   "metadata": {},
   "outputs": [],
   "source": [
    "class llmstate(TypedDict):\n",
    "    question: str\n",
    "    answer: str"
   ]
  },
  {
   "cell_type": "code",
   "execution_count": 42,
   "id": "0c8849c5",
   "metadata": {},
   "outputs": [],
   "source": [
    "graph = StateGraph(llmstate)"
   ]
  },
  {
   "cell_type": "code",
   "execution_count": null,
   "id": "4596a288",
   "metadata": {},
   "outputs": [],
   "source": [
    "\n",
    "llm = HuggingFaceEndpoint(\n",
    "    repo_id='Qwen/Qwen3-4B-Instruct-2507',\n",
    "    huggingfacehub_api_token='hf_token',\n",
    "    max_new_tokens=512\n",
    ")\n",
    "model = ChatHuggingFace(llm=llm)\n"
   ]
  },
  {
   "cell_type": "code",
   "execution_count": 44,
   "id": "003ae69b",
   "metadata": {},
   "outputs": [],
   "source": [
    "def llm_node(state: llmstate) -> llmstate:\n",
    "    question = state['question']\n",
    "    prompt = PromptTemplate(\n",
    "        input_variables=['question'],\n",
    "        template=\"Answer the following question: {question}\"\n",
    "    )\n",
    "    result = model.invoke(prompt.format(question=question)).content\n",
    "    state['answer'] = result\n",
    "    return state"
   ]
  },
  {
   "cell_type": "code",
   "execution_count": 45,
   "id": "4035c3fa",
   "metadata": {},
   "outputs": [
    {
     "data": {
      "text/plain": [
       "<langgraph.graph.state.StateGraph at 0x261b2cf3390>"
      ]
     },
     "execution_count": 45,
     "metadata": {},
     "output_type": "execute_result"
    }
   ],
   "source": [
    "graph.add_node('llmnode', llm_node)\n",
    "graph.add_edge(START, 'llmnode')\n",
    "graph.add_edge('llmnode', END)\n",
    "  # Display the graph structure"
   ]
  },
  {
   "cell_type": "code",
   "execution_count": 46,
   "id": "ac09e1cf",
   "metadata": {},
   "outputs": [],
   "source": [
    "workflow = graph.compile()"
   ]
  },
  {
   "cell_type": "code",
   "execution_count": 47,
   "id": "13c3bc6d",
   "metadata": {},
   "outputs": [
    {
     "name": "stdout",
     "output_type": "stream",
     "text": [
      "{'question': 'What is the capital of France?', 'answer': 'The capital of France is Paris.'}\n"
     ]
    }
   ],
   "source": [
    "initial_state = {'question': 'What is the capital of France?'}\n",
    "result = workflow.invoke(initial_state)\n",
    "print(result)"
   ]
  },
  {
   "cell_type": "code",
   "execution_count": null,
   "id": "60d6ed93",
   "metadata": {},
   "outputs": [],
   "source": [
    "result = model.invoke(prompt.format(question=question)).content"
   ]
  },
  {
   "cell_type": "code",
   "execution_count": null,
   "id": "83cb82bb",
   "metadata": {},
   "outputs": [],
   "source": [
    "result = model.invoke(prompt.format(question=question)).content"
   ]
  }
 ],
 "metadata": {
  "kernelspec": {
   "display_name": "Python 3",
   "language": "python",
   "name": "python3"
  },
  "language_info": {
   "codemirror_mode": {
    "name": "ipython",
    "version": 3
   },
   "file_extension": ".py",
   "mimetype": "text/x-python",
   "name": "python",
   "nbconvert_exporter": "python",
   "pygments_lexer": "ipython3",
   "version": "3.13.2"
  }
 },
 "nbformat": 4,
 "nbformat_minor": 5
}
