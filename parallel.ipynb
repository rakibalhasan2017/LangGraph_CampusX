{
 "cells": [
  {
   "cell_type": "code",
   "execution_count": 1,
   "id": "421f075f",
   "metadata": {},
   "outputs": [],
   "source": [
    "from langgraph.graph import StateGraph, START, END\n",
    "from typing import TypedDict\n",
    "from IPython.display import display\n",
    "from langchain_huggingface import HuggingFaceEndpoint, ChatHuggingFace\n",
    "from langchain.prompts import PromptTemplate\n"
   ]
  },
  {
   "cell_type": "code",
   "execution_count": 12,
   "id": "49f17a3e",
   "metadata": {},
   "outputs": [],
   "source": [
    "class cricket(TypedDict):\n",
    "     runs: int\n",
    "     ball : int\n",
    "     four : int\n",
    "     six : int\n",
    "     sr : float\n",
    "     bpb : float\n",
    "     boundary_percentage : float"
   ]
  },
  {
   "cell_type": "code",
   "execution_count": 17,
   "id": "19e91b54",
   "metadata": {},
   "outputs": [],
   "source": [
    "def calculate_sr(state: cricket) -> cricket:\n",
    "    runs = state['runs']\n",
    "    ball = state['ball']\n",
    "    state['sr'] = (runs/ball)*100\n",
    "    return {'sr': state['sr']}\n",
    "\n",
    "def calculate_bpb(state: cricket) -> cricket:\n",
    "    runs = state['runs']\n",
    "    ball = state['ball']\n",
    "    state['bpb'] = ball/runs\n",
    "    return {'bpb': state['bpb']}\n",
    "\n",
    "\n",
    "def calculate_boundary_percentage(state: cricket) -> cricket:\n",
    "    four = state['four']\n",
    "    six = state['six']\n",
    "    total_boundaries = four + six\n",
    "    state['boundary_percentage'] = (total_boundaries / state['ball']) * 100\n",
    "    return {'boundary_percentage': state['boundary_percentage']}\n",
    "\n",
    "def summary(state: cricket) -> cricket:\n",
    "    runs = state['runs']\n",
    "    ball = state['ball']\n",
    "    four = state['four']\n",
    "    six = state['six']\n",
    "    sr = state['sr']\n",
    "    bpb = state['bpb']\n",
    "    boundary_percentage = state['boundary_percentage']\n",
    "    \n",
    "    summary_text = (f\"Runs: {runs}, Balls: {ball}, Fours: {four}, Sixes: {six}, \"\n",
    "                    f\"Strike Rate: {sr:.2f}, Balls per Run: {bpb:.2f}, \"\n",
    "                    f\"Boundary Percentage: {boundary_percentage:.2f}%\")\n",
    "    \n",
    "    state['summary'] = summary_text\n",
    "    return state"
   ]
  },
  {
   "cell_type": "code",
   "execution_count": 18,
   "id": "d7cf7986",
   "metadata": {},
   "outputs": [
    {
     "data": {
      "text/plain": [
       "<langgraph.graph.state.StateGraph at 0x18de2605310>"
      ]
     },
     "execution_count": 18,
     "metadata": {},
     "output_type": "execute_result"
    }
   ],
   "source": [
    "graph = StateGraph(cricket)\n",
    "\n",
    "graph.add_node('calculate_sr', calculate_sr)\n",
    "graph.add_node('calculate_bpb', calculate_bpb)\n",
    "graph.add_node('calculate_boundary_percentage', calculate_boundary_percentage)\n",
    "graph.add_node('summary', summary)\n",
    "graph.add_edge(START, 'calculate_sr')\n",
    "graph.add_edge(START, 'calculate_bpb')\n",
    "graph.add_edge(START, 'calculate_boundary_percentage')\n",
    "graph.add_edge('calculate_sr', 'summary')\n",
    "graph.add_edge('calculate_bpb', 'summary')\n",
    "graph.add_edge('calculate_boundary_percentage', 'summary')\n",
    "graph.add_edge('summary', END)\n",
    "  # Display the graph structure"
   ]
  },
  {
   "cell_type": "code",
   "execution_count": 16,
   "id": "57165478",
   "metadata": {},
   "outputs": [
    {
     "data": {
      "image/png": "[encoded data removed]",
      "text/plain": [
       "<langgraph.graph.state.CompiledStateGraph object at 0x0000018DE1651370>"
      ]
     },
     "execution_count": 16,
     "metadata": {},
     "output_type": "execute_result"
    }
   ],
   "source": [
    "graph.compile()"
   ]
  },
  {
   "cell_type": "code",
   "execution_count": 19,
   "id": "f382d95b",
   "metadata": {},
   "outputs": [
    {
     "name": "stdout",
     "output_type": "stream",
     "text": [
      "{'runs': 120, 'ball': 80, 'four': 10, 'six': 5, 'sr': 150.0, 'bpb': 0.6666666666666666, 'boundary_percentage': 18.75}\n"
     ]
    }
   ],
   "source": [
    "workflow = graph.compile()\n",
    "initial_state = {'runs': 120, 'ball': 80, 'four': 10, 'six': 5}\n",
    "result = workflow.invoke(initial_state)\n",
    "print(result)"
   ]
  }
 ],
 "metadata": {
  "kernelspec": {
   "display_name": "Python 3",
   "language": "python",
   "name": "python3"
  },
  "language_info": {
   "codemirror_mode": {
    "name": "ipython",
    "version": 3
   },
   "file_extension": ".py",
   "mimetype": "text/x-python",
   "name": "python",
   "nbconvert_exporter": "python",
   "pygments_lexer": "ipython3",
   "version": "3.13.2"
  }
 },
 "nbformat": 4,
 "nbformat_minor": 5
}
