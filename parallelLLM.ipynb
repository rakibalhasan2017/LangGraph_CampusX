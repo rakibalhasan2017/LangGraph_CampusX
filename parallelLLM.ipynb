{
 "cells": [
  {
   "cell_type": "code",
   "execution_count": 37,
   "id": "f119fa1d",
   "metadata": {},
   "outputs": [],
   "source": [
    "from langgraph.graph import StateGraph, START, END\n",
    "from pydantic import BaseModel, Field\n",
    "from IPython.display import display\n",
    "from langchain_huggingface import HuggingFaceEndpoint, ChatHuggingFace\n",
    "from langchain.prompts import PromptTemplate\n",
    "from langchain.output_parsers import PydanticOutputParser\n",
    "from typing import TypedDict, Annotated, List\n",
    "import operator"
   ]
  },
  {
   "cell_type": "code",
   "execution_count": 38,
   "id": "dc21b8eb",
   "metadata": {},
   "outputs": [],
   "source": [
    "class evaluationschema(BaseModel):\n",
    "    feedback: str = Field(..., description=\"detailed feedback for essay\")\n",
    "    score: int = Field(..., description=\"score must be out of 10\", ge=0, le=10)"
   ]
  },
  {
   "cell_type": "code",
   "execution_count": null,
   "id": "e2f31a6f",
   "metadata": {},
   "outputs": [],
   "source": [
    "\n",
    "llm = HuggingFaceEndpoint(\n",
    "    repo_id='Qwen/Qwen3-4B-Instruct-2507',\n",
    "    huggingfacehub_api_token='hf_token',\n",
    "    max_new_tokens=512\n",
    ")\n",
    "model = ChatHuggingFace(llm=llm)\n"
   ]
  },
  {
   "cell_type": "code",
   "execution_count": 40,
   "id": "e52e4e25",
   "metadata": {},
   "outputs": [],
   "source": [
    "parser = PydanticOutputParser(pydantic_object=evaluationschema)"
   ]
  },
  {
   "cell_type": "code",
   "execution_count": 41,
   "id": "32a9e260",
   "metadata": {},
   "outputs": [],
   "source": [
    "prompt_template = PromptTemplate(\n",
    "    input_variables=[\"text\"],\n",
    "    template=\"\"\"\n",
    "Analyze the following passage and return the result in the specified JSON schema.\n",
    "\n",
    "{text}\n",
    "\n",
    "{format_instructions}\n",
    "\"\"\",\n",
    "    partial_variables={\"format_instructions\": parser.get_format_instructions()},\n",
    ")\n",
    "\n",
    "# 4. Format the input\n",
    "formatted_prompt = prompt_template.format(text=\"\"\"\n",
    "Environmental pollution is one of the most pressing problems of the modern world. \n",
    "It occurs when harmful substances contaminate air, water, and soil, causing damage to nature and human health. \n",
    "Air pollution from vehicles and factories leads to respiratory diseases and global warming. \n",
    "Water pollution from plastics and chemicals threatens aquatic life and safe drinking sources. \n",
    "Soil pollution reduces fertility and affects food production. \n",
    "Deforestation and industrialization worsen the problem, disturbing the balance of ecosystems. \n",
    "To protect the planet, people must adopt eco-friendly practices, reduce waste, and use renewable energy. \n",
    "A clean environment ensures a healthy, sustainable future.\n",
    "\"\"\")\n"
   ]
  },
  {
   "cell_type": "code",
   "execution_count": 42,
   "id": "f5c3a0a2",
   "metadata": {},
   "outputs": [
    {
     "data": {
      "text/plain": [
       "evaluationschema(feedback='The passage provides a clear and comprehensive overview of environmental pollution, identifying its causes, effects on nature and human health, and proposing solutions such as eco-friendly practices, waste reduction, and renewable energy use. It logically connects various forms of pollution to real-world consequences and emphasizes the importance of sustainable living. The content is well-structured, informative, and relevant to current global issues. However, it could benefit from more specific examples or data to strengthen the argument. Overall, it is a strong and thoughtful discussion on environmental challenges and solutions.', score=9)"
      ]
     },
     "metadata": {},
     "output_type": "display_data"
    }
   ],
   "source": [
    "raw_output = model.invoke(formatted_prompt)\n",
    "structured = parser.parse(raw_output.content)\n",
    "display(structured)"
   ]
  },
  {
   "cell_type": "code",
   "execution_count": 43,
   "id": "cffc7b8f",
   "metadata": {},
   "outputs": [],
   "source": [
    "class upsclass(TypedDict):\n",
    "    essay: str\n",
    "    language_feedback: str\n",
    "    analysis_feedback: str\n",
    "    clarity_feedback: str\n",
    "    overall_feedback: str\n",
    "    individual_score: Annotated[list[int], operator.add]\n",
    "    avg_score: float"
   ]
  },
  {
   "cell_type": "code",
   "execution_count": 44,
   "id": "7811c94d",
   "metadata": {},
   "outputs": [],
   "source": [
    "def evaluate_language(state: upsclass) -> upsclass:\n",
    "   prompt_template = PromptTemplate(\n",
    "      input_variables=[\"essay\"],\n",
    "    template=\"\"\"\n",
    "evaluate the language quality of the following essay and provide a feedback and assign a score out of 10.\n",
    "{essay}\n",
    "{format_instructions}\n",
    "\"\"\",\n",
    "    partial_variables={\"format_instructions\": parser.get_format_instructions()},\n",
    ")\n",
    "   output = model.invoke(prompt_template.format(essay=state['essay']))\n",
    "   structured = parser.parse(output.content)\n",
    "   return {'language_feedback': structured.feedback, 'individual_score': [structured.score]}\n",
    "   \n"
   ]
  },
  {
   "cell_type": "code",
   "execution_count": 45,
   "id": "9ebcff72",
   "metadata": {},
   "outputs": [],
   "source": [
    "def evaluate_analysis(state: upsclass) -> upsclass:\n",
    "   prompt_template = PromptTemplate(\n",
    "       input_variables=[\"essay\"],\n",
    "    template=\"\"\"\n",
    "evaluate the analysis quality of the following essay and provide a feedback and assign a score out of 10.\n",
    "{essay}\n",
    "{format_instructions}\n",
    "\"\"\",\n",
    "    partial_variables={\"format_instructions\": parser.get_format_instructions()},\n",
    ")\n",
    "   output = model.invoke(prompt_template.format(essay=state['essay']))\n",
    "   structured = parser.parse(output.content)\n",
    "   return {'analysis_feedback': structured.feedback, 'individual_score': [structured.score]}\n",
    "   \n"
   ]
  },
  {
   "cell_type": "code",
   "execution_count": 46,
   "id": "d90e2e00",
   "metadata": {},
   "outputs": [],
   "source": [
    "def evaluate_clarity(state: upsclass) -> upsclass:\n",
    "   prompt_template = PromptTemplate(\n",
    "         input_variables=[\"essay\"],\n",
    "    template=\"\"\"\n",
    "evaluate the clarity of thought of the following essay and provide a feedback and assign a score out of 10.\n",
    "{essay}\n",
    "{format_instructions}\n",
    "\"\"\",\n",
    "    partial_variables={\"format_instructions\": parser.get_format_instructions()},\n",
    ")\n",
    "   output = model.invoke(prompt_template.format(essay=state['essay']))\n",
    "   structured = parser.parse(output.content)\n",
    "   return {'clarity_feedback': structured.feedback, 'individual_score': [structured.score]}\n",
    "   \n"
   ]
  },
  {
   "cell_type": "code",
   "execution_count": 47,
   "id": "7bec3a57",
   "metadata": {},
   "outputs": [],
   "source": [
    "def overall_feedback(state: upsclass) -> upsclass:\n",
    "    prompt_template = PromptTemplate(\n",
    "        input_variables=[\"essay\", \"language_feedback\", \"analysis_feedback\", \"clarity_feedback\", \"format_instructions\"],\n",
    "        template=\"\"\"\n",
    "Given the following essay and the feedback on language, analysis, and clarity, \n",
    "provide an overall feedback summary and an overall score out of 10.\n",
    "\n",
    "Essay: {essay}\n",
    "Language Feedback: {language_feedback}\n",
    "Analysis Feedback: {analysis_feedback}\n",
    "Clarity Feedback: {clarity_feedback}\n",
    "\n",
    "{format_instructions}\n",
    "\"\"\",\n",
    "        partial_variables={\"format_instructions\": parser.get_format_instructions()},\n",
    "    )\n",
    "\n",
    "    output = model.invoke(prompt_template.format(\n",
    "        essay=state['essay'],\n",
    "        language_feedback=state['language_feedback'],\n",
    "        analysis_feedback=state['analysis_feedback'],\n",
    "        clarity_feedback=state['clarity_feedback'],\n",
    "    ))\n",
    "    structured = parser.parse(output.content)\n",
    "    overall_score = sum(state['individual_score']) // 3 if state['individual_score'] else 0\n",
    "    return {'overall_feedback': structured.feedback, 'avg_score': overall_score}\n"
   ]
  },
  {
   "cell_type": "code",
   "execution_count": 48,
   "id": "e48eb605",
   "metadata": {},
   "outputs": [
    {
     "data": {
      "text/plain": [
       "<langgraph.graph.state.StateGraph at 0x1d68c849d10>"
      ]
     },
     "execution_count": 48,
     "metadata": {},
     "output_type": "execute_result"
    }
   ],
   "source": [
    "graph = StateGraph(upsclass)\n",
    "\n",
    "graph.add_node('evaluate_language', evaluate_language)\n",
    "graph.add_node('evaluate_analysis', evaluate_analysis)\n",
    "graph.add_node('evaluate_clarity', evaluate_clarity)\n",
    "graph.add_node('overall_feedback', overall_feedback)\n",
    "\n",
    "graph.add_edge(START, 'evaluate_language')\n",
    "graph.add_edge(START, 'evaluate_analysis')\n",
    "graph.add_edge(START, 'evaluate_clarity')\n",
    "graph.add_edge('evaluate_language', 'overall_feedback')\n",
    "graph.add_edge('evaluate_analysis', 'overall_feedback')\n",
    "graph.add_edge('evaluate_clarity', 'overall_feedback')\n",
    "graph.add_edge('overall_feedback', END)"
   ]
  },
  {
   "cell_type": "code",
   "execution_count": 49,
   "id": "0086545e",
   "metadata": {},
   "outputs": [],
   "source": [
    "workflow = graph.compile()"
   ]
  },
  {
   "cell_type": "code",
   "execution_count": 51,
   "id": "d6705404",
   "metadata": {},
   "outputs": [
    {
     "data": {
      "text/plain": [
       "{'essay': 'Environmental pollution is a major global issue caused by human activities such as industrialization, deforestation, and excessive use of vehicles. It contaminates air, water, and soil, harming human health, wildlife, and ecosystems. Reducing pollution through renewable energy, waste management, and sustainable practices is essential for protecting our planet’s future.',\n",
       " 'language_feedback': 'The essay presents a clear and concise overview of environmental pollution and its causes and effects. The language is straightforward and accurate, effectively conveying the main points. However, the content is superficial and lacks depth, examples, or specific details that would enhance clarity or engagement. There is no development of arguments, no evidence, or explanation of potential solutions beyond general statements. The structure is simple and logical, but it could benefit from more elaboration, transitions, or a stronger opening and closing. Overall, it meets the basic requirements of a clear message but falls short in rhetorical richness and analytical depth. The tone is appropriate, and the grammar is correct, but the vocabulary and sentence variety are limited, which reduces its persuasiveness and readability.',\n",
       " 'analysis_feedback': 'The essay provides a clear and concise overview of environmental pollution, identifying key causes and impacts. It also mentions potential solutions such as renewable energy, waste management, and sustainable practices, which adds balance and relevance. However, the analysis is superficial and lacks depth—there is no evidence of critical thinking, evidence-based arguments, or examples to support claims. The structure is straightforward and informational but does not demonstrate evaluation or synthesis of ideas. To improve, the essay should include specific examples, data, or case studies to strengthen the argument and provide a more rigorous analysis. Additionally, connections between human activities and ecological consequences could be explored more deeply. Overall, the content is accurate but the analytical quality is limited.',\n",
       " 'clarity_feedback': 'The essay presents a clear and concise overview of environmental pollution, identifying key causes and effects. The central idea—human activities leading to pollution and the necessity of mitigation through renewable energy, waste management, and sustainable practices—is well-articulated. However, the thought process lacks depth in terms of explanations, examples, or specific connections between causes and solutions. The structure is straightforward but minimal, offering little analysis or critical thinking. While the clarity of the main points is good, the essay would benefit from more detailed reasoning, evidence, or elaboration to strengthen its argument and demonstrate a more nuanced understanding of the issue. As written, it reads more like a statement than a developed argument.',\n",
       " 'overall_feedback': 'The essay provides a clear and accurate overview of environmental pollution, identifying key human causes such as industrialization, deforestation, and vehicle use, along with their impacts on air, water, and soil. It appropriately suggests solutions like renewable energy, waste management, and sustainable practices. However, the content is superficial and lacks depth, specific examples, data, or evidence to support claims. The analysis is minimal, offering no critical evaluation, synthesis, or logical development of arguments. The language is straightforward and grammatically correct, but the sentence variety and rhetorical richness are limited, reducing engagement and persuasiveness. While the central idea is well-presented, the essay reads more like a summary than a developed, analytical argument. To improve, it should include concrete case studies, statistics, or detailed explanations of how specific human activities lead to ecological consequences and how solutions can be implemented effectively. Overall, the essay meets basic requirements but falls short in analytical rigor, depth, and clarity of reasoning.',\n",
       " 'individual_score': [4, 6, 6],\n",
       " 'avg_score': 5}"
      ]
     },
     "metadata": {},
     "output_type": "display_data"
    }
   ],
   "source": [
    "initial_state = {\n",
    "    'essay': \"\"\"Environmental pollution is a major global issue caused by human activities such as industrialization, deforestation, and excessive use of vehicles. It contaminates air, water, and soil, harming human health, wildlife, and ecosystems. Reducing pollution through renewable energy, waste management, and sustainable practices is essential for protecting our planet’s future.\"\"\",\n",
    "    'language_feedback': \"\",\n",
    "    'analysis_feedback': \"\",\n",
    "    'clarity_feedback': \"\",\n",
    "    'overall_feedback': \"\",\n",
    "    'individual_score': [],\n",
    "    'avg_score': 0.0\n",
    "}\n",
    "final_state = workflow.invoke(initial_state)\n",
    "display(final_state)"
   ]
  }
 ],
 "metadata": {
  "kernelspec": {
   "display_name": "Python 3",
   "language": "python",
   "name": "python3"
  },
  "language_info": {
   "codemirror_mode": {
    "name": "ipython",
    "version": 3
   },
   "file_extension": ".py",
   "mimetype": "text/x-python",
   "name": "python",
   "nbconvert_exporter": "python",
   "pygments_lexer": "ipython3",
   "version": "3.13.2"
  }
 },
 "nbformat": 4,
 "nbformat_minor": 5
}
