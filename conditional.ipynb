{
 "cells": [
  {
   "cell_type": "code",
   "execution_count": 97,
   "id": "c21c8da7",
   "metadata": {},
   "outputs": [],
   "source": [
    "from langgraph.graph import StateGraph, START, END\n",
    "from pydantic import BaseModel, Field\n",
    "from IPython.display import display\n",
    "from langchain_huggingface import HuggingFaceEndpoint, ChatHuggingFace\n",
    "from langchain.prompts import PromptTemplate\n",
    "from langchain.output_parsers import PydanticOutputParser\n",
    "from typing import TypedDict,Literal\n",
    "import operator"
   ]
  },
  {
   "cell_type": "code",
   "execution_count": 98,
   "id": "bb90ab68",
   "metadata": {},
   "outputs": [],
   "source": [
    "class sentimentschema(BaseModel):\n",
    "    sentiment: Literal['positive', 'negative'] = Field(..., description=\"The sentiment of the text\")"
   ]
  },
  {
   "cell_type": "code",
   "execution_count": null,
   "id": "d59fb49f",
   "metadata": {},
   "outputs": [],
   "source": [
    "\n",
    "llm = HuggingFaceEndpoint(\n",
    "    repo_id='Qwen/Qwen3-4B-Instruct-2507',\n",
    "    huggingfacehub_api_token='hf_token',\n",
    "    max_new_tokens=512\n",
    ")\n",
    "model = ChatHuggingFace(llm=llm)\n"
   ]
  },
  {
   "cell_type": "code",
   "execution_count": 100,
   "id": "4a0a444a",
   "metadata": {},
   "outputs": [],
   "source": [
    "parser = PydanticOutputParser(pydantic_object=sentimentschema)"
   ]
  },
  {
   "cell_type": "code",
   "execution_count": 101,
   "id": "73d54857",
   "metadata": {},
   "outputs": [],
   "source": [
    "class reviewstate(TypedDict):\n",
    "    review: str\n",
    "    sentiment: Literal['positive', 'negative']\n",
    "    diagnosis: dict\n",
    "    response: str"
   ]
  },
  {
   "cell_type": "code",
   "execution_count": 102,
   "id": "20b59e4b",
   "metadata": {},
   "outputs": [],
   "source": [
    "class diagnosisschema(BaseModel):\n",
    "    issues: Literal['performance', 'bug', 'usability', 'support', 'others'] = Field(..., description=\"A list of issues found in the review\")\n",
    "    severity: Literal['low', 'medium', 'high'] = Field(..., description=\"The severity of the issues\")"
   ]
  },
  {
   "cell_type": "code",
   "execution_count": 103,
   "id": "e4ad980f",
   "metadata": {},
   "outputs": [],
   "source": [
    "parser1 = PydanticOutputParser(pydantic_object=diagnosisschema)"
   ]
  },
  {
   "cell_type": "code",
   "execution_count": 104,
   "id": "e31ec53b",
   "metadata": {},
   "outputs": [],
   "source": [
    "graph = StateGraph(reviewstate)"
   ]
  },
  {
   "cell_type": "code",
   "execution_count": 105,
   "id": "aa4d1914",
   "metadata": {},
   "outputs": [],
   "source": [
    "def find_sentiment(state: reviewstate) -> reviewstate:\n",
    "    prompt_template = PromptTemplate(\n",
    "        input_variables=[\"text\"],\n",
    "        template=\"\"\"\n",
    "analyze the sentiment of the following text\n",
    "{text}\n",
    "{format_instructions}\n",
    "\"\"\",\n",
    "        partial_variables={\"format_instructions\": parser.get_format_instructions()},\n",
    "    )\n",
    "    formatted_prompt = prompt_template.format(text=state['review'])\n",
    "    output = model.invoke(formatted_prompt)\n",
    "    structured = parser.parse(output.content)\n",
    "    return {'sentiment': structured.sentiment}"
   ]
  },
  {
   "cell_type": "code",
   "execution_count": 106,
   "id": "c562d5e8",
   "metadata": {},
   "outputs": [],
   "source": [
    "def check_sentiment(state: reviewstate) -> bool:\n",
    "    return state['sentiment'] == 'positive'"
   ]
  },
  {
   "cell_type": "code",
   "execution_count": 107,
   "id": "22fe217f",
   "metadata": {},
   "outputs": [],
   "source": [
    "def positive_response(state: reviewstate) -> reviewstate:\n",
    "    prompt = f\"write a warm thank you response to the following review: {state['review']}\"\n",
    "    output = model.invoke(prompt)\n",
    "    return {'response': output.content}"
   ]
  },
  {
   "cell_type": "code",
   "execution_count": 108,
   "id": "6eb72dba",
   "metadata": {},
   "outputs": [],
   "source": [
    "def run_diagnosis(state: reviewstate) -> reviewstate:\n",
    "    prompt_template = PromptTemplate(\n",
    "        input_variables=[\"text\"],\n",
    "        template=\"\"\"\n",
    "run a diagnosis on the following review\n",
    "{text}\n",
    "{format_instructions}\n",
    "\"\"\",\n",
    "        partial_variables={\"format_instructions\": parser1.get_format_instructions()},\n",
    "    )\n",
    "    formatted_prompt = prompt_template.format(text=state['review'])\n",
    "    output = model.invoke(formatted_prompt)\n",
    "    structured = parser1.parse(output.content)\n",
    "    return {'diagnosis': structured.model_dump()}"
   ]
  },
  {
   "cell_type": "code",
   "execution_count": 109,
   "id": "a2f4befc",
   "metadata": {},
   "outputs": [],
   "source": [
    "def negative_response(state: reviewstate) -> reviewstate:\n",
    "    diagnosis = state['diagnosis']\n",
    "    prompt = f\"write a professional response to the following review, assuring the user that the {diagnosis['issues']} issues will be addressed and solved it based on the severity level of {diagnosis['severity']}: {state['review']}\"\n",
    "    output = model.invoke(prompt)\n",
    "    return {'response': output.content}"
   ]
  },
  {
   "cell_type": "code",
   "execution_count": 110,
   "id": "51d11a7b",
   "metadata": {},
   "outputs": [
    {
     "data": {
      "text/plain": [
       "<langgraph.graph.state.StateGraph at 0x2ad3248c910>"
      ]
     },
     "execution_count": 110,
     "metadata": {},
     "output_type": "execute_result"
    }
   ],
   "source": [
    "graph.add_node('find_sentiment', find_sentiment)\n",
    "graph.add_node('positive_response', positive_response)\n",
    "graph.add_node('negative_response', negative_response)\n",
    "graph.add_node('run_diagnosis', run_diagnosis)"
   ]
  },
  {
   "cell_type": "code",
   "execution_count": 111,
   "id": "89ea85b4",
   "metadata": {},
   "outputs": [
    {
     "data": {
      "text/plain": [
       "<langgraph.graph.state.StateGraph at 0x2ad3248c910>"
      ]
     },
     "execution_count": 111,
     "metadata": {},
     "output_type": "execute_result"
    }
   ],
   "source": [
    "graph.add_edge(START, 'find_sentiment')\n",
    "graph.add_conditional_edges('find_sentiment',\n",
    "                             check_sentiment,\n",
    "                             {\n",
    "                                    True: \"positive_response\",\n",
    "                                    False: \"run_diagnosis\"\n",
    "                             })\n",
    "graph.add_edge('positive_response', END)\n",
    "graph.add_edge('run_diagnosis', 'negative_response')\n",
    "graph.add_edge('negative_response', END)\n"
   ]
  },
  {
   "cell_type": "code",
   "execution_count": 112,
   "id": "5617a193",
   "metadata": {},
   "outputs": [
    {
     "data": {
      "image/png": "[encoded data removed]",
      "text/plain": [
       "<langgraph.graph.state.CompiledStateGraph object at 0x000002AD313CBBD0>"
      ]
     },
     "execution_count": 112,
     "metadata": {},
     "output_type": "execute_result"
    }
   ],
   "source": [
    "graph.compile()"
   ]
  },
  {
   "cell_type": "code",
   "execution_count": 113,
   "id": "3a19b5ea",
   "metadata": {},
   "outputs": [
    {
     "name": "stdout",
     "output_type": "stream",
     "text": [
      "{'review': 'i have been using this app for a while now and it keeps crashing every time i try to open it. this is so frustrating and i want a refund', 'sentiment': 'negative', 'diagnosis': {'issues': 'performance', 'severity': 'high'}, 'response': 'Dear Valued User,\\n\\nThank you for taking the time to share your feedback—we sincerely appreciate your patience and honesty. We’re truly sorry to hear that you’ve been experiencing serious performance issues with the app, including frequent crashes upon opening. This is not the experience we aim to deliver, and we take your frustration very seriously.\\n\\nWe’ve reviewed your concern and classified it as a **high-severity issue** due to its direct impact on the core functionality of the app. Our engineering team is already actively investigating the root cause and has prioritized a fix to be implemented in the coming days. We’re committed to resolving this as quickly as possible and ensuring a stable, reliable user experience moving forward.\\n\\nIn the meantime, we understand that this disruption affects your ability to use the app effectively. While we’re unable to issue a refund at this time without further review, we are offering you a full refund as a goodwill gesture—please let us know your preferred method of receiving it, and we’ll process it promptly.\\n\\nWe’re working closely to improve the app’s stability and are deeply sorry for the inconvenience you’ve experienced. Your feedback is invaluable to us, and we’re committed to making this right.\\n\\nThank you again for your patience and for helping us improve. We look forward to restoring your trust and providing you with a seamless experience moving forward.\\n\\nWarm regards,  \\n[Your Name]  \\nCustomer Support Team  \\n[Company Name]  \\n[Contact Information]'}\n"
     ]
    }
   ],
   "source": [
    "workflow = graph.compile()\n",
    "review = \"i have been using this app for a while now and it keeps crashing every time i try to open it. this is so frustrating and i want a refund\"\n",
    "result = workflow.invoke({'review': review, 'sentiment': '', 'diagnosis': {}, 'response': ''})\n",
    "\n",
    "print(result)"
   ]
  },
  {
   "cell_type": "code",
   "execution_count": 116,
   "id": "53bd5cae",
   "metadata": {},
   "outputs": [
    {
     "name": "stdout",
     "output_type": "stream",
     "text": [
      "Dear Valued User,\n",
      "\n",
      "Thank you for taking the time to share your feedback—we sincerely appreciate your patience and honesty. We’re truly sorry to hear that you’ve been experiencing serious performance issues with the app, including frequent crashes upon opening. This is not the experience we aim to deliver, and we take your frustration very seriously.\n",
      "\n",
      "We’ve reviewed your concern and classified it as a **high-severity issue** due to its direct impact on the core functionality of the app. Our engineering team is already actively investigating the root cause and has prioritized a fix to be implemented in the coming days. We’re committed to resolving this as quickly as possible and ensuring a stable, reliable user experience moving forward.\n",
      "\n",
      "In the meantime, we understand that this disruption affects your ability to use the app effectively. While we’re unable to issue a refund at this time without further review, we are offering you a full refund as a goodwill gesture—please let us know your preferred method of receiving it, and we’ll process it promptly.\n",
      "\n",
      "We’re working closely to improve the app’s stability and are deeply sorry for the inconvenience you’ve experienced. Your feedback is invaluable to us, and we’re committed to making this right.\n",
      "\n",
      "Thank you again for your patience and for helping us improve. We look forward to restoring your trust and providing you with a seamless experience moving forward.\n",
      "\n",
      "Warm regards,  \n",
      "[Your Name]  \n",
      "Customer Support Team  \n",
      "[Company Name]  \n",
      "[Contact Information]\n"
     ]
    }
   ],
   "source": [
    "print(result['response'])"
   ]
  }
 ],
 "metadata": {
  "kernelspec": {
   "display_name": "Python 3",
   "language": "python",
   "name": "python3"
  },
  "language_info": {
   "codemirror_mode": {
    "name": "ipython",
    "version": 3
   },
   "file_extension": ".py",
   "mimetype": "text/x-python",
   "name": "python",
   "nbconvert_exporter": "python",
   "pygments_lexer": "ipython3",
   "version": "3.13.2"
  }
 },
 "nbformat": 4,
 "nbformat_minor": 5
}
